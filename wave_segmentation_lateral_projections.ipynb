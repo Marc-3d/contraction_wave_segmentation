{
 "cells": [
  {
   "cell_type": "markdown",
   "id": "a6ce0690",
   "metadata": {},
   "source": [
    "##### Installing Julia packages (only needs to be done once)"
   ]
  },
  {
   "cell_type": "code",
   "execution_count": null,
   "id": "214338b6",
   "metadata": {
    "ExecuteTime": {
     "end_time": "2024-09-13T08:06:31.802000+02:00",
     "start_time": "2024-09-13T06:06:22.039Z"
    }
   },
   "outputs": [],
   "source": [
    "import Pkg;\n",
    "\n",
    "Pkg.add(url=\"https://github.com/Marc-3d/LIBTIFF.jl.git\")\n",
    "Pkg.add(url=\"https://github.com/Marc-3d/multi_quickPIV.git\")\n",
    "Pkg.add(url=\"https://github.com/Marc-3d/ImageAnalysis.git\")\n",
    "\n",
    "# VISUALIZATION PACKAGES\n",
    "#   PyPlot is very popular and great for generating non-interactive Plots\n",
    "#   ImageView a simple visualization package, similar to Fiji, allowing to scroll through timepoints in a 2D+t dataset\n",
    "#   Makie is great for interactive visulization, but it is a big package. It might take a bit to install/compile.\n",
    "\n",
    "Pkg.add(\"PyCall\")\n",
    "Pkg.add(\"PyPlot\")\n",
    "Pkg.add(\"ImageView\")\n",
    "Pkg.add(\"Makie\") \n",
    "\n",
    "# IMAGE PROCESSING and IMAGE-RELATED PACKAGES\n",
    "Pkg.add(\"Images\")\n",
    "Pkg.add(\"ImageMorphology\")\n",
    "Pkg.add(\"ImageComponentAnalysis\")\n",
    "Pkg.add(\"ImageDraw\")\n",
    "Pkg.add(\"ColorTypes\")\n",
    "Pkg.add(\"ColorSchemes\")\n",
    "Pkg.add(\"DistanceTransforms\")"
   ]
  },
  {
   "cell_type": "markdown",
   "id": "8a4523b4",
   "metadata": {},
   "source": [
    "##### Importing Julia packages"
   ]
  },
  {
   "cell_type": "code",
   "execution_count": 2,
   "id": "77f3ce17",
   "metadata": {
    "ExecuteTime": {
     "end_time": "2024-09-13T14:48:42.435000+02:00",
     "start_time": "2024-09-13T12:48:39.972Z"
    }
   },
   "outputs": [
    {
     "name": "stderr",
     "output_type": "stream",
     "text": [
      "WARNING: method definition for #paint_chull_interior#411 at R:\\users\\pereyram\\Gits\\contraction_wave_segmentation\\scripts\\segment_utils.jl:616 declares type variable T but does not use it.\n",
      "WARNING: method definition for #paint_chull_interior#553 at R:\\users\\pereyram\\Gits\\contraction_wave_segmentation\\scripts\\segment_utils.jl:616 declares type variable T but does not use it.\n",
      "WARNING: method definition for #ref_wdot_#645 at R:\\users\\pereyram\\Gits\\contraction_wave_segmentation\\wave_segmentation_Pereyra_etal.jl:593 declares type variable T but does not use it.\n"
     ]
    },
    {
     "data": {
      "text/plain": [
       "paint_VD! (generic function with 1 method)"
      ]
     },
     "execution_count": 2,
     "metadata": {},
     "output_type": "execute_result"
    }
   ],
   "source": [
    "using LIBTIFF, FileIO, JLD2\n",
    "using multi_quickPIV, ImageAnalysis\n",
    "using GLMakie, ImageView, PyPlot, PyCall\n",
    "using Images, ImageMorphology, ImageComponentAnalysis, ImageDraw, ColorTypes, DistanceTransforms, ColorSchemes\n",
    "\n",
    "# importing pipeline scripts \n",
    "script_path = joinpath( pwd(), \"scripts\" ); \n",
    "include( joinpath( script_path, \"vf_utils.jl\" ) )\n",
    "include( joinpath( script_path, \"wave_utils.jl\" ) )\n",
    "include( joinpath( script_path, \"data_utils.jl\" ) )\n",
    "include( joinpath( script_path, \"makie_utils.jl\" ) )\n",
    "include( joinpath( script_path, \"segment_utils.jl\" ) )\n",
    "include(\"wave_segmentation_Pereyra_etal.jl\")"
   ]
  },
  {
   "cell_type": "markdown",
   "id": "a9ba85ab",
   "metadata": {},
   "source": [
    "##### Generating/Loading 2D+t lateral maximum intensity projections\n",
    "\n",
    "It is (much) faster and simpler to load the pre-computed max projections within ```lateral_2Dt_results.jld2```. <br>\n",
    "\n",
    "You can chose to re-generate them from the 3D fused volumes: ... to ....  <br>\n",
    "\n",
    "In both cases you need to download the data from ZENODO and set up the path to the files in the code below."
   ]
  },
  {
   "cell_type": "code",
   "execution_count": 4,
   "id": "dbe3f1fb",
   "metadata": {
    "ExecuteTime": {
     "end_time": "2024-09-13T14:49:31.428000+02:00",
     "start_time": "2024-09-13T12:49:23.799Z"
    },
    "scrolled": true
   },
   "outputs": [],
   "source": [
    "load_from_jld2 = true\n",
    "\n",
    "if load_from_jld2\n",
    "    \n",
    "    jld2_dir    = \"\"; \n",
    "    jld2_dir    = \"R:/users/pereyram/SHARING/Wave_detection_paper_movies/\"\n",
    "    jld2_path   = joinpath( jld2_dir, \"lateral_2Dt_results.jld2\" ); \n",
    "    \n",
    "    lateral_2Dt = load( jld2_path, \"max_projections\" );\n",
    "    \n",
    "    N_tps = size( lateral_2Dt, 3 ); \n",
    "    \n",
    "else # it takes a while. 20 minutes for me.\n",
    "    \n",
    "    volume_dir  = \"\";\n",
    "    volume_fn   = \"\"; \n",
    "    volume_dir  = \"R:/users/pereyram/TMP_BACKUP/volumes/\"\n",
    "    volume_fn   = \"fused_tp_233_ch_0.tif\";\n",
    "    volume_path = joinpath( volume_dir, volume_fn )\n",
    "    \n",
    "    tp_regex    = Regex( \"tp_(\\\\d+)\" ); \n",
    "    tp0, tp1    = 233, 332; \n",
    "    N_tps       = tp1 - tp0 + 1; \n",
    "    lateral_2Dt = generate_lateral_projections( volume_path, tp_regex, tp0, tp1 )\n",
    "end;"
   ]
  },
  {
   "cell_type": "code",
   "execution_count": 5,
   "id": "2bfa9786",
   "metadata": {
    "ExecuteTime": {
     "end_time": "2024-09-13T14:49:47.048000+02:00",
     "start_time": "2024-09-13T12:49:32.516Z"
    }
   },
   "outputs": [
    {
     "data": {
      "text/plain": [
       "Dict{String, Any} with 4 entries:\n",
       "  \"gui\"         => Dict{String, Any}(\"window\"=>GtkWindowLeaf(Ptr{GObject} @0x00…\n",
       "  \"roi\"         => Dict{String, Any}(\"redraw\"=>ObserverFunction[ObserverFunctio…\n",
       "  \"annotations\" => Observable(Dict{UInt64, Any}())\n",
       "  \"clim\"        => Observable(CLim{Float32}(1.0, 300.0))"
      ]
     },
     "execution_count": 5,
     "metadata": {},
     "output_type": "execute_result"
    }
   ],
   "source": [
    "visualize_data = true\n",
    "\n",
    "if visualize_data\n",
    "    \n",
    "    clim = ImageView.default_clim( ones( Float32, 1, 1 ) .* ( 1, 300 ) )\n",
    "    ImageView.imshow(  lateral_2Dt, clim ); \n",
    "end"
   ]
  },
  {
   "cell_type": "markdown",
   "id": "988d22f1",
   "metadata": {},
   "source": [
    "##### Generating/Loading PIV vector fields\n",
    "\n",
    "It is faster and simpler to load the pre-computed PIV vector fields within ```lateral_2Dt_results.jld2```, in which case you need to download this file form ZENODO and setup up the path to the file in the code below. <br>\n",
    "\n",
    "You can chose to re-generate them from the 2D+t lateral projections.  <br>"
   ]
  },
  {
   "cell_type": "code",
   "execution_count": 6,
   "id": "44244d94",
   "metadata": {
    "ExecuteTime": {
     "end_time": "2024-09-13T14:50:02.411000+02:00",
     "start_time": "2024-09-13T12:49:55.653Z"
    }
   },
   "outputs": [],
   "source": [
    "load_from_jld2 = true\n",
    "\n",
    "if load_from_jld2\n",
    "    \n",
    "    # If you have already set up the path in the previous cell and have ran the cell, you do NOT NEED to \n",
    "    # set up the path again :)\n",
    "    \n",
    "    jld2_dir  = \"\"; \n",
    "    jld2_path = isdefined( Main, :jld2_path ) ? jld2_path : joinpath( jld2_dir, \"lateral_2Dt_results.jld2\" ); \n",
    "    \n",
    "    PIVs = load( jld2_path, \"PIVs\" );\n",
    "    filt_PIVs = post_process_laterals_VFs( PIVs )\n",
    "        \n",
    "else\n",
    "        \n",
    "    # we generate a mask of the embryo to avoid computing PIVs on the background. \n",
    "    embryo_mask = get_embryo_mask( lateral_2Dt ); \n",
    "    pivparams   = multi_quickPIV.setPIVParameters( interSize=64, searchMargin=64, step=16, \n",
    "                                                   mask_filtFun=(x)->(x[div.(size(x).+1,2)...]), \n",
    "                                                   mask_threshold=0.1 );\n",
    "\n",
    "    PIVs = []; \n",
    "    for t in 1:N_tps-1\n",
    "        print( t, \",\" )\n",
    "        im1   = lateral_2Dt[ :, :,  t  ]; \n",
    "        im2   = lateral_2Dt[ :, :, t+1 ]; \n",
    "        VF, _ = multi_quickPIV.PIV( im1, im2, embryo_mask, pivparams ); \n",
    "        push!( PIVs, VF )\n",
    "    end\n",
    "\n",
    "    filt_PIVs = post_process_laterals_VFs( PIVs )\n",
    "end;"
   ]
  },
  {
   "cell_type": "code",
   "execution_count": 105,
   "id": "4bfcf89f",
   "metadata": {
    "ExecuteTime": {
     "end_time": "2024-09-13T12:16:02.306000+02:00",
     "start_time": "2024-09-13T10:15:59.103Z"
    }
   },
   "outputs": [
    {
     "data": {
      "text/plain": [
       "GLMakie.Screen(...)"
      ]
     },
     "execution_count": 105,
     "metadata": {},
     "output_type": "execute_result"
    }
   ],
   "source": [
    "visualize_PIVs = false\n",
    "\n",
    "if visualize_PIVs\n",
    "    scrollable_vectorfield( format_VFs( filt_PIVs ), format_IMGs( lateral_2Dt, maxI=400 ), \n",
    "                            IA=(64,64), step=(16,16), \n",
    "                            cmap_data=:binary, arrow_color=:black )    \n",
    "end"
   ]
  },
  {
   "cell_type": "markdown",
   "id": "4e549c4e",
   "metadata": {},
   "source": [
    "##### Running 2D+t contraction wave segmentation "
   ]
  },
  {
   "cell_type": "code",
   "execution_count": 7,
   "id": "b4013a25",
   "metadata": {
    "ExecuteTime": {
     "end_time": "2024-09-13T14:50:08.321000+02:00",
     "start_time": "2024-09-13T12:50:06.745Z"
    }
   },
   "outputs": [],
   "source": [
    "# Slight spatiotemporal smoothing the PIV vectorfield before wave detection\n",
    "\n",
    "filt_PIVs_mat = zeros( eltype(filt_PIVs[1]), size(filt_PIVs[1])..., length(filt_PIVs) )\n",
    "for i in 1:length( filt_PIVs )\n",
    "    filt_PIVs_mat[:,:,:,i] .= filt_PIVs[i]\n",
    "end\n",
    "smooth_PIVs_mat = smooth( (1,1,1), filt_PIVs_mat ); \n",
    "smooth_PIVs     = [ smooth_PIVs_mat[:,:,:,i] for i in 1:size(smooth_PIVs_mat,4) ]\n",
    "\n",
    "visualize_PIVs = false\n",
    "if visualize_PIVs\n",
    "    scrollable_vectorfield( format_VFs( smooth_PIVs ), format_IMGs( lateral_2Dt, maxI=400 ), \n",
    "                            IA=(64,64), step=(16,16), \n",
    "                            cmap_data=:binary, arrow_color=:black )    \n",
    "end"
   ]
  },
  {
   "cell_type": "code",
   "execution_count": 8,
   "id": "c2713f6a",
   "metadata": {
    "ExecuteTime": {
     "end_time": "2024-09-13T14:50:21.436000+02:00",
     "start_time": "2024-09-13T12:50:10.525Z"
    }
   },
   "outputs": [
    {
     "name": "stdout",
     "output_type": "stream",
     "text": [
      "  4.653552 seconds (10.20 M allocations: 554.332 MiB, 5.38% gc time, 74.71% compilation time)\n"
     ]
    }
   ],
   "source": [
    "# Wave detection \n",
    "\n",
    "wave_params = wave_parameters( dorsal_dir = (  0,  1 ), \n",
    "                              ventral_dir = ( sind(45), -cosd(45) ),\n",
    "                                  top_dir = ( -1,  0 ), \n",
    "                         min_displacement = 10,\n",
    "                                min_angle = 30,                  \n",
    "                        max_V_intra_angle = 40, \n",
    "                        max_D_intra_angle = 40, \n",
    "                            max_ref_angle = 45, \n",
    "                            min_top_angle = 10, \n",
    "                              V_avg_speed = 1.0, \n",
    "                              D_min_speed = 0.5, \n",
    "                              V_min_speed = 0.5\n",
    ")\n",
    "\n",
    "wave_VF = [ ( vf[1,:,:], vf[2,:,:] ) for vf in smooth_PIVs ]; \n",
    "\n",
    "@time WVs = detect_waves( wave_VF, wave_params );\n",
    "\n",
    "filt_WVs = post_process_waves( WVs );\n",
    "smth_WVs = smooth_waves.( filt_WVs, th=0.7 ); "
   ]
  },
  {
   "cell_type": "markdown",
   "id": "49ad6fd8",
   "metadata": {},
   "source": [
    "##### Visualizing the results"
   ]
  },
  {
   "cell_type": "code",
   "execution_count": 9,
   "id": "cbbc0ed8",
   "metadata": {
    "ExecuteTime": {
     "end_time": "2024-09-13T14:51:03.927000+02:00",
     "start_time": "2024-09-13T12:50:22.463Z"
    }
   },
   "outputs": [
    {
     "data": {
      "text/plain": [
       "GLMakie.Screen(...)"
      ]
     },
     "execution_count": 9,
     "metadata": {},
     "output_type": "execute_result"
    }
   ],
   "source": [
    "visualize_waves = true\n",
    "\n",
    "if visualize_waves\n",
    "    \n",
    "    mp           = PyCall.pyimport( \"matplotlib\" )\n",
    "    cmap         = mp.cm.get_cmap(\"RdYlBu_r\")\n",
    "    colors_      = [ Colors.RGBA{Float64}(cmap(x)[1:3]..., x != 0.5) for x in [ 0.0, 0.5, 1.0 ] ]\n",
    "    colorscheme_ = ColorScheme( colors_ )\n",
    "    \n",
    "    scrollable_vectorfield( format_VFs( filt_PIVs ), \n",
    "                            format_IMGs( lateral_2Dt, maxI=400 ), \n",
    "                             format_WVs( smth_WVs, size(lateral_2Dt)[1:2] ),\n",
    "                            IA=(64,64), step=(16,16), \n",
    "                            cmap_data=:binary, arrow_color=:black, cmap_overlay=colorscheme_ )\n",
    "end"
   ]
  },
  {
   "cell_type": "code",
   "execution_count": 10,
   "id": "96762756",
   "metadata": {
    "ExecuteTime": {
     "end_time": "2024-09-13T14:51:19.306000+02:00",
     "start_time": "2024-09-13T12:51:15.146Z"
    },
    "code_folding": []
   },
   "outputs": [
    {
     "data": {
      "image/png": "[encoded data removed]",
      "text/plain": [
       "PyPlot.Figure(PyObject <Figure size 400x1000 with 1 Axes>)"
      ]
     },
     "metadata": {},
     "output_type": "display_data"
    },
    {
     "data": {
      "text/plain": [
       "PyObject <matplotlib.image.AxesImage object at 0x000002000C2923A0>"
      ]
     },
     "execution_count": 10,
     "metadata": {},
     "output_type": "execute_result"
    }
   ],
   "source": [
    "ky_v, kx_v = kymographs( [ Float32.( wv .==  1 ) for wv in filt_WVs ], fun=(x)->sum(x)/length(x) )\n",
    "ky_d, kx_d = kymographs( [ Float32.( wv .== -1 ) for wv in filt_WVs ], fun=(x)->sum(x)/length(x) )\n",
    "\n",
    "waves_ = zeros( Float32, size( ky_v ) )\n",
    "for i in 1:length( ky_v )\n",
    "    v_ =  ky_v[i]\n",
    "    d_ = -ky_d[i]\n",
    "    waves_[i] = abs( v_ ) > abs( d_ ) ? v_ : d_ \n",
    "end\n",
    "\n",
    "# \"RdYlBu_r\"\n",
    "mp        = PyCall.pyimport( \"matplotlib\" )\n",
    "colors_   = [ (193/255,195/255,223/255), (1.0,1.0,1.0), (228/255,179/255,190/255) ] \n",
    "colormarc = mp.colors.LinearSegmentedColormap.from_list( \"marc\", colors_, N=256 )\n",
    "\n",
    "figure( figsize=(2,5), dpi=200 )\n",
    "PyPlot.xticks( collect( 10:20:90 ) )\n",
    "\n",
    "W = waves_ ./ ( abs.( waves_ ) .> 0 )\n",
    "PyPlot.imshow( W, cmap=colormarc, alpha=1.0, vmin=-1.0, vmax=1.0, aspect=1.2 )"
   ]
  }
 ],
 "metadata": {
  "kernelspec": {
   "display_name": "Julia 1.10.4",
   "language": "julia",
   "name": "julia-1.10"
  },
  "language_info": {
   "file_extension": ".jl",
   "mimetype": "application/julia",
   "name": "julia",
   "version": "1.10.4"
  },
  "toc": {
   "base_numbering": 1,
   "nav_menu": {},
   "number_sections": true,
   "sideBar": true,
   "skip_h1_title": false,
   "title_cell": "Table of Contents",
   "title_sidebar": "Contents",
   "toc_cell": false,
   "toc_position": {},
   "toc_section_display": true,
   "toc_window_display": false
  }
 },
 "nbformat": 4,
 "nbformat_minor": 5
}
